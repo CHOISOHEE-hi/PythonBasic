{
 "cells": [
  {
   "cell_type": "markdown",
   "id": "dfaccdb6",
   "metadata": {},
   "source": [
    "# NumPy 라이브러리"
   ]
  },
  {
   "cell_type": "markdown",
   "id": "b29c3c5f",
   "metadata": {},
   "source": [
    "## NumPy 고속 처리"
   ]
  },
  {
   "cell_type": "code",
   "execution_count": 2,
   "id": "a6b36cf7",
   "metadata": {},
   "outputs": [],
   "source": [
    "import numpy as np\n",
    "import time\n",
    "from numpy.random import rand"
   ]
  },
  {
   "cell_type": "code",
   "execution_count": 43,
   "id": "f0d8c125",
   "metadata": {},
   "outputs": [
    {
     "name": "stdout",
     "output_type": "stream",
     "text": [
      "[[0.94148337 0.12916189 0.01489752 ... 0.71854105 0.84393156 0.66767529]\n",
      " [0.09195078 0.78305032 0.06326211 ... 0.02542526 0.24179907 0.06987614]\n",
      " [0.5882941  0.23382199 0.83374763 ... 0.76505357 0.61700843 0.09917345]\n",
      " ...\n",
      " [0.80805889 0.24264592 0.27746134 ... 0.04498899 0.15596433 0.67483382]\n",
      " [0.75217348 0.2709317  0.15442131 ... 0.96076492 0.43972686 0.24686452]\n",
      " [0.0104278  0.79114618 0.09725806 ... 0.23918733 0.07047744 0.69012133]] \n",
      "\n",
      "[[0.40613763 0.01258915 0.94228022 ... 0.02110754 0.55833099 0.61141673]\n",
      " [0.93962612 0.932529   0.74567761 ... 0.89360781 0.17143078 0.11453653]\n",
      " [0.62500483 0.42265105 0.47177998 ... 0.04004008 0.57067824 0.33939056]\n",
      " ...\n",
      " [0.53609464 0.15274924 0.09736876 ... 0.40808207 0.93640549 0.71742411]\n",
      " [0.73595531 0.778643   0.62124022 ... 0.96959292 0.48207221 0.54539962]\n",
      " [0.82084503 0.69866218 0.96729192 ... 0.62135789 0.67576953 0.76492469]] \n",
      "\n",
      "[[0 0 0 ... 0 0 0]\n",
      " [0 0 0 ... 0 0 0]\n",
      " [0 0 0 ... 0 0 0]\n",
      " ...\n",
      " [0 0 0 ... 0 0 0]\n",
      " [0 0 0 ... 0 0 0]\n",
      " [0 0 0 ... 0 0 0]] \n",
      "\n",
      "파이썬 기능만으로 계산한 결과: 2.30[sec]\n",
      "넘파이 라이브러리로 계산한 결과: 0.00[sec]\n"
     ]
    }
   ],
   "source": [
    "#행, 열의 크기\n",
    "N=150\n",
    "\n",
    "#행렬을 초기화\n",
    "matA=np.array(rand(N,N))\n",
    "matB=np.array(rand(N,N))\n",
    "matC=np.array([[0]*N for _ in range(N)])\n",
    "print(matA,\"\\n\")\n",
    "\n",
    "print(matB,\"\\n\")\n",
    "print(matC,\"\\n\")\n",
    "\n",
    "\n",
    "#기본 파이썬 기능으로만 사용하여 행렬 곱셈\n",
    "start=time.time()\n",
    "\n",
    "for i in range(N):\n",
    "    for j in range(N):\n",
    "        for k in range(N):\n",
    "            matC[i][j]=matA[i][k]*matB[k][j]\n",
    "\n",
    "end=time.time()\n",
    "            \n",
    "print(\"파이썬 기능만으로 계산한 결과: %.2f[sec]\"%float(end-start))\n",
    "\n",
    "\n",
    "#Numpy을 사용하여 행렬 곱셈\n",
    "\n",
    "start_np=time.time()\n",
    "matC=np.dot(matA,matB)\n",
    "end_np=time.time()\n",
    "            \n",
    "print(\"넘파이 라이브러리로 계산한 결과: %.2f[sec]\"%float(end_np-start_np))\n"
   ]
  },
  {
   "cell_type": "markdown",
   "id": "2b53c983",
   "metadata": {},
   "source": [
    "## 배열"
   ]
  },
  {
   "cell_type": "code",
   "execution_count": 44,
   "id": "0961a96e",
   "metadata": {},
   "outputs": [
    {
     "data": {
      "text/plain": [
       "array([1, 2, 3, 4])"
      ]
     },
     "execution_count": 44,
     "metadata": {},
     "output_type": "execute_result"
    }
   ],
   "source": [
    "np.array([1,2,3,4])"
   ]
  },
  {
   "cell_type": "code",
   "execution_count": 45,
   "id": "6df16d5b",
   "metadata": {},
   "outputs": [
    {
     "data": {
      "text/plain": [
       "array([0, 1, 2, 3])"
      ]
     },
     "execution_count": 45,
     "metadata": {},
     "output_type": "execute_result"
    }
   ],
   "source": [
    "np.arange(4)"
   ]
  },
  {
   "cell_type": "code",
   "execution_count": 46,
   "id": "550c386d",
   "metadata": {},
   "outputs": [
    {
     "name": "stdout",
     "output_type": "stream",
     "text": [
      "1차원 배열\n",
      "[1 2 3 4 5 6 7 8] \n",
      "\n",
      "2차원 배열\n",
      "[[1 2 3 4]\n",
      " [5 6 7 8]] \n",
      "\n",
      "3차원 배열\n",
      "[[[1 2]\n",
      "  [3 4]]\n",
      "\n",
      " [[5 6]\n",
      "  [7 8]]] \n",
      "\n"
     ]
    }
   ],
   "source": [
    "array_1d=np.array([1,2,3,4,5,6,7,8])\n",
    "print(\"1차원 배열\")\n",
    "print(array_1d,\"\\n\")\n",
    "array_2d=np.array([[1,2,3,4],[5,6,7,8]])\n",
    "print(\"2차원 배열\")\n",
    "print(array_2d,\"\\n\")\n",
    "array_3d=np.array([[[1,2],[3,4]],[[5,6],[7,8]]])\n",
    "print(\"3차원 배열\")\n",
    "print(array_3d,\"\\n\")"
   ]
  },
  {
   "cell_type": "code",
   "execution_count": 47,
   "id": "6b18343a",
   "metadata": {},
   "outputs": [
    {
     "name": "stdout",
     "output_type": "stream",
     "text": [
      "[24, 3, 4, 23, 10, 12]\n",
      "[24  3  4 23 10 12]\n",
      "<class 'numpy.ndarray'>\n"
     ]
    }
   ],
   "source": [
    "storages =[24,3,4,23,10,12]\n",
    "print(storages)\n",
    "\n",
    "np_storages=np.array(storages)\n",
    "print(np_storages)\n",
    "print(type(np_storages))"
   ]
  },
  {
   "cell_type": "code",
   "execution_count": 48,
   "id": "a9447df7",
   "metadata": {},
   "outputs": [
    {
     "name": "stdout",
     "output_type": "stream",
     "text": [
      "[2, 4, 6, 8]\n"
     ]
    }
   ],
   "source": [
    "#numpy를 사용하지않고 배열에 추가\n",
    "storages=[1,2,3,4]\n",
    "new_storages=[]\n",
    "for n in storages:\n",
    "    n+=n\n",
    "    new_storages.append(n)\n",
    "    \n",
    "print(new_storages)"
   ]
  },
  {
   "cell_type": "code",
   "execution_count": 49,
   "id": "761e715e",
   "metadata": {},
   "outputs": [
    {
     "name": "stdout",
     "output_type": "stream",
     "text": [
      "[1 2 3 4]\n",
      "[2 4 6 8]\n"
     ]
    }
   ],
   "source": [
    "storages=np.array([1,2,3,4])\n",
    "print(storages)\n",
    "storages+=storages\n",
    "print(storages)"
   ]
  },
  {
   "cell_type": "code",
   "execution_count": 50,
   "id": "b2991ceb",
   "metadata": {},
   "outputs": [
    {
     "name": "stdout",
     "output_type": "stream",
     "text": [
      "[2 5 3 4 8]\n",
      "[ 4 10  6  8 16]\n",
      "[  8 125  27  64 512]\n",
      "[0.5        0.2        0.33333333 0.25       0.125     ]\n"
     ]
    }
   ],
   "source": [
    "#array의 계산\n",
    "\n",
    "arr = np.array([2,5,3,4,8])\n",
    "print(arr)\n",
    "\n",
    "#arr에 arr을 더해서 출력\n",
    "arr_1=arr+arr\n",
    "print(arr_1)\n",
    "\n",
    "#arr의 3승\n",
    "arr_2=arr**3\n",
    "print(arr_2)\n",
    "\n",
    "#1을 arr로 나눈 값\n",
    "arr_3=1/arr\n",
    "print(arr_3)"
   ]
  },
  {
   "cell_type": "code",
   "execution_count": 51,
   "id": "8585844d",
   "metadata": {},
   "outputs": [
    {
     "name": "stdout",
     "output_type": "stream",
     "text": [
      "[0 1 2 3 4 5 6 7 8 9]\n"
     ]
    }
   ],
   "source": [
    "arr=np.arange(10)\n",
    "print(arr)"
   ]
  },
  {
   "cell_type": "code",
   "execution_count": 52,
   "id": "bda91bdd",
   "metadata": {},
   "outputs": [
    {
     "name": "stdout",
     "output_type": "stream",
     "text": [
      "[1 1 1 3 4 5 6 7 8 9]\n"
     ]
    }
   ],
   "source": [
    "arr=np.arange(10)\n",
    "arr[0:3]=1\n",
    "print(arr)"
   ]
  },
  {
   "cell_type": "code",
   "execution_count": 53,
   "id": "28eb7a69",
   "metadata": {},
   "outputs": [
    {
     "name": "stdout",
     "output_type": "stream",
     "text": [
      "[0 1 2 3 4 5 6 7 8 9]\n",
      "[3 4 5]\n",
      "[ 0  1  2 24 24 24  6  7  8  9]\n"
     ]
    }
   ],
   "source": [
    "arr=np.arange(10)\n",
    "print(arr)\n",
    "print(arr[3:6])\n",
    "\n",
    "arr[3:6]=24\n",
    "print(arr)"
   ]
  },
  {
   "cell_type": "markdown",
   "id": "164de4e4",
   "metadata": {},
   "source": [
    "##### array를 그대로 변수에 대입하면 복사를 한 변수를 수정하면 영향을 받는다\n",
    "#### 그래서 copy함수를 통해 복사하고 사용해야한다"
   ]
  },
  {
   "cell_type": "code",
   "execution_count": 54,
   "id": "014c920c",
   "metadata": {},
   "outputs": [
    {
     "name": "stdout",
     "output_type": "stream",
     "text": [
      "대입을 통해 복사 \n",
      "\n",
      "[1 2 3 4 5]\n",
      "[100   2   3   4   5]\n",
      "[100   2   3   4   5]\n",
      "[100 200   3   4   5]\n",
      "[100 200   3   4   5]\n",
      "\n",
      "\n",
      "copy()를 통해 복사 \n",
      "\n",
      "[1 2 3 4 5]\n",
      "[100   2   3   4   5]\n",
      "[  1 200   3   4   5]\n",
      "[100   2   3   4   5]\n"
     ]
    }
   ],
   "source": [
    "print(\"대입을 통해 복사 \\n\")\n",
    "\n",
    "arr1 = np.array([1,2,3,4,5])\n",
    "print(arr1)\n",
    "\n",
    "arr2=arr1\n",
    "arr2[0]=100\n",
    "print(arr1)\n",
    "print(arr2)\n",
    "\n",
    "arr1[1]=200\n",
    "print(arr1)\n",
    "print(arr2)\n",
    "\n",
    "print(\"\")\n",
    "print(\"\")\n",
    "\n",
    "print(\"copy()를 통해 복사 \\n\")\n",
    "\n",
    "arr1 = np.array([1,2,3,4,5])\n",
    "arr2 = arr1.copy()\n",
    "\n",
    "arr2[0]=100\n",
    "print(arr1)\n",
    "print(arr2)\n",
    "\n",
    "arr1[1]=200\n",
    "print(arr1)\n",
    "print(arr2)\n"
   ]
  },
  {
   "cell_type": "code",
   "execution_count": 55,
   "id": "89017285",
   "metadata": {},
   "outputs": [
    {
     "name": "stdout",
     "output_type": "stream",
     "text": [
      "파이썬으로 리스트 형 데이터\n",
      "arr_List : [0, 1, 2, 3, 4, 5, 6, 7, 8, 9]\n",
      "\n",
      "리스트의 슬라이스는 복사본이 생성되므로, arr_List에는 arr_List_copy의 변경점이 반영되지 않습니다.\n",
      "arr_List: [0, 1, 2, 3, 4, 5, 6, 7, 8, 9]\n",
      "arr_LIst_copy: [100, 1, 2, 3, 4, 5, 6, 7, 8, 9]\n",
      "\n"
     ]
    }
   ],
   "source": [
    "#그냥 Python으로 리스트 생성한경우\n",
    "\n",
    "arr_List=[x for x in range(10)]\n",
    "print(\"파이썬으로 리스트 형 데이터\")\n",
    "print(\"arr_List :\",arr_List)\n",
    "\n",
    "print()\n",
    "arr_List_copy= arr_List[:]\n",
    "arr_List_copy[0]=100\n",
    "\n",
    "print(\"리스트의 슬라이스는 복사본이 생성되므로, arr_List에는 arr_List_copy의 변경점이 반영되지 않습니다.\")\n",
    "print(\"arr_List:\",arr_List)\n",
    "print(\"arr_LIst_copy:\",arr_List_copy)\n",
    "print()"
   ]
  },
  {
   "cell_type": "code",
   "execution_count": 56,
   "id": "a288c780",
   "metadata": {},
   "outputs": [
    {
     "name": "stdout",
     "output_type": "stream",
     "text": [
      "NumPy의 ndarray 데이터\n",
      "arr_NumPy: [0 1 2 3 4 5 6 7 8 9]\n",
      "\n",
      "NumPy의 슬라이스는 view(저장된 위치의 정보)가 대입\n",
      "arr_NumPy_view를 변경하면 arr_NumPy에 반영됩니다\n",
      "arr_NumPy: [100   1   2   3   4   5   6   7   8   9]\n",
      "arr_NumPy: [100   1   2   3   4   5   6   7   8   9]\n",
      "\n"
     ]
    }
   ],
   "source": [
    "# NumPy의 ndarray에 슬라이스를 이용한 경우\n",
    "arr_NumPy = np.arange(10)\n",
    "print(\"NumPy의 ndarray 데이터\")\n",
    "print(\"arr_NumPy:\",arr_NumPy)\n",
    "print()\n",
    "\n",
    "arr_NumPy_view = arr_NumPy[:]\n",
    "arr_NumPy_view[0] = 100\n",
    "\n",
    "print(\"NumPy의 슬라이스는 view(저장된 위치의 정보)가 대입\")\n",
    "print(\"arr_NumPy_view를 변경하면 arr_NumPy에 반영됩니다\")\n",
    "print(\"arr_NumPy:\",arr_NumPy)\n",
    "print(\"arr_NumPy:\",arr_NumPy_view)\n",
    "print()"
   ]
  },
  {
   "cell_type": "code",
   "execution_count": 59,
   "id": "e5dfe54d",
   "metadata": {},
   "outputs": [
    {
     "name": "stdout",
     "output_type": "stream",
     "text": [
      "NumPy의 ndarray에서 copy()를 이용한 경우\n",
      "arr_NumPy: [0 1 2 3 4 5 6 7 8 9]\n",
      "\n",
      "copy()를 사용하면 복사본이 생성, arr_NumPy에 영향 X\n",
      "arr_NumPy: [0 1 2 3 4 5 6 7 8 9]\n",
      "arr_NumPy_copy: [100   1   2   3   4   5   6   7   8   9]\n"
     ]
    }
   ],
   "source": [
    "# NumPy에서 copy()를 이용한 경우\n",
    "arr_NumPy = np.arange(10)\n",
    "print(\"NumPy의 ndarray에서 copy()를 이용한 경우\")\n",
    "print(\"arr_NumPy:\",arr_NumPy)\n",
    "print()\n",
    "arr_NumPy_copy = arr_NumPy[:].copy()\n",
    "arr_NumPy_copy[0] = 100\n",
    "\n",
    "print(\"copy()를 사용하면 복사본이 생성, arr_NumPy에 영향 X\")\n",
    "print(\"arr_NumPy:\",arr_NumPy)\n",
    "print(\"arr_NumPy_copy:\",arr_NumPy_copy)\n"
   ]
  },
  {
   "cell_type": "markdown",
   "id": "5ff217e7",
   "metadata": {},
   "source": [
    "#### BOOL 인덱스 참조 "
   ]
  },
  {
   "cell_type": "code",
   "execution_count": 3,
   "id": "f9c17e49",
   "metadata": {},
   "outputs": [
    {
     "name": "stdout",
     "output_type": "stream",
     "text": [
      "[2 4 7]\n"
     ]
    }
   ],
   "source": [
    "arr = np.array([2,4,6,7])\n",
    "print(arr[np.array([True,True,False,True])])"
   ]
  },
  {
   "cell_type": "code",
   "execution_count": 5,
   "id": "1b292deb",
   "metadata": {},
   "outputs": [
    {
     "name": "stdout",
     "output_type": "stream",
     "text": [
      "[4 7]\n"
     ]
    }
   ],
   "source": [
    "arr=np.array([2,4,6,7])\n",
    "print(arr[arr%3==1])"
   ]
  },
  {
   "cell_type": "code",
   "execution_count": 6,
   "id": "58a75b46",
   "metadata": {},
   "outputs": [
    {
     "name": "stdout",
     "output_type": "stream",
     "text": [
      "[ True False  True False  True False]\n",
      "[2 4 6]\n"
     ]
    }
   ],
   "source": [
    "arr=np.array([2,3,4,5,6,7])\n",
    "print(arr%2==0)\n",
    "print(arr[arr%2==0])\n"
   ]
  },
  {
   "cell_type": "markdown",
   "id": "981054a6",
   "metadata": {},
   "source": [
    "#### 범용함수"
   ]
  },
  {
   "cell_type": "markdown",
   "id": "d8b9a787",
   "metadata": {},
   "source": [
    "- 절댓값 : np.abs()\n",
    "- 자연로그의 거듭제곱 : np.exp()\n",
    "- 제곱근 : np.sqrt()\n",
    "- 합 : np.add()\n",
    "- 요소간의 차이 : np.subtrack()\n",
    "- 최댓값 : np.maximum()"
   ]
  },
  {
   "cell_type": "code",
   "execution_count": 9,
   "id": "4c902963",
   "metadata": {},
   "outputs": [
    {
     "name": "stdout",
     "output_type": "stream",
     "text": [
      "[ 4  9 16  4 20]\n",
      "[ 4  9 16  4 20]\n",
      "[5.45981500e+01 8.10308393e+03 8.88611052e+06 5.45981500e+01\n",
      " 4.85165195e+08]\n",
      "[2.         3.         4.         2.         4.47213595]\n"
     ]
    }
   ],
   "source": [
    "arr=np.array([4,9,16,4,20])\n",
    "print(arr)\n",
    "\n",
    "arr_abs=np.abs(arr)\n",
    "print(arr_abs)\n",
    "\n",
    "arr_exp=np.exp(arr)\n",
    "print(arr_exp)\n",
    "\n",
    "arr_sqrt=np.sqrt(arr)\n",
    "print(arr_sqrt)"
   ]
  },
  {
   "cell_type": "markdown",
   "id": "bed99f90",
   "metadata": {},
   "source": [
    "#### 집합함수\n",
    "\n",
    "- 중복 제거 : np.unique()\n",
    "- 합집합 : np.union1d(x,y)\n",
    "- 교집합 : np.intersect1d(x,y)\n",
    "- 차집합 : np.setdiff1d(x,y)"
   ]
  },
  {
   "cell_type": "code",
   "execution_count": 13,
   "id": "f5f8a163",
   "metadata": {},
   "outputs": [
    {
     "name": "stdout",
     "output_type": "stream",
     "text": [
      "[2 5 7 9]\n",
      "[1 2 3 5 7 8 9]\n",
      "[2 5]\n",
      "[7 9]\n"
     ]
    }
   ],
   "source": [
    "arr1=[2,5,7,9,5,2]\n",
    "arr2=[2,5,8,3,1]\n",
    "\n",
    "unique_arr=np.unique(arr1)\n",
    "union_arr=np.union1d(arr1,arr2)\n",
    "intersect_arr=np.intersect1d(arr1,arr2)\n",
    "setdiff_arr=np.setdiff1d(arr1,arr2)\n",
    "\n",
    "print(unique_arr)\n",
    "print(union_arr)\n",
    "print(intersect_arr)\n",
    "print(setdiff_arr)"
   ]
  },
  {
   "cell_type": "markdown",
   "id": "fd2f8866",
   "metadata": {},
   "source": [
    "#### 난수\n",
    "\n",
    "- 0 이상 1이하의 난수 생성 : np.random()\n",
    "- x 이상,y미만(y-1이하),z개 정수 난수 생성 : np.random.randint(x,y,z)\n",
    "    - z 에는 (2,3) 형식으로 인수를 넣을 수도 있고, 행렬을 생성할 수 있음\n",
    "- 가우수 분포를 따르는 난수 생성 : np.random.normal()"
   ]
  },
  {
   "cell_type": "code",
   "execution_count": 22,
   "id": "7292e7e0",
   "metadata": {},
   "outputs": [
    {
     "name": "stdout",
     "output_type": "stream",
     "text": [
      "[[4 7]\n",
      " [5 4]\n",
      " [0 5]\n",
      " [6 2]\n",
      " [2 3]]\n",
      "[0.35784002 0.49669389 0.11660056]\n"
     ]
    }
   ],
   "source": [
    "from numpy.random import randint\n",
    "from numpy.random import random\n",
    "\n",
    "arr1=randint(0,11,(5,2))\n",
    "print(arr1)\n",
    "\n",
    "arr2=random(3)\n",
    "print(arr2)"
   ]
  },
  {
   "cell_type": "markdown",
   "id": "21e9608b",
   "metadata": {},
   "source": [
    "## 2차원 배열\n",
    "\n",
    "- 2차원 배열 생성 : np.array([[],[]])\n",
    "- 각 요소 수 반환 :ndarray배열.shape\n",
    "- 행렬 변환 : ndarray배열.reshape(a,b)"
   ]
  },
  {
   "cell_type": "code",
   "execution_count": 30,
   "id": "3f499bb0",
   "metadata": {},
   "outputs": [
    {
     "name": "stdout",
     "output_type": "stream",
     "text": [
      "[[1 2 3 4]\n",
      " [5 6 7 8]] \n",
      "\n",
      "(2, 4) \n",
      "\n",
      "[[1 2]\n",
      " [3 4]\n",
      " [5 6]\n",
      " [7 8]] \n",
      "\n"
     ]
    }
   ],
   "source": [
    "arr = np.array([[1, 2, 3, 4], [5, 6, 7, 8]]) #2행 4열\n",
    "print(arr,\"\\n\")\n",
    "print(arr.shape,\"\\n\")\n",
    "print(arr.reshape(4,2),\"\\n\")\n"
   ]
  },
  {
   "cell_type": "code",
   "execution_count": 31,
   "id": "44bbaf9d",
   "metadata": {},
   "outputs": [
    {
     "name": "stdout",
     "output_type": "stream",
     "text": [
      "[4 5 6]\n"
     ]
    }
   ],
   "source": [
    "#인덱스 참조\n",
    "arr = np.array([[1, 2 ,3], [4, 5, 6]])\n",
    "print(arr[1])"
   ]
  },
  {
   "cell_type": "code",
   "execution_count": 32,
   "id": "9e0c67e1",
   "metadata": {},
   "outputs": [
    {
     "name": "stdout",
     "output_type": "stream",
     "text": [
      "6\n"
     ]
    }
   ],
   "source": [
    "arr = np.array([[1, 2 ,3], [4, 5, 6]])\n",
    "print(arr[1,2])"
   ]
  },
  {
   "cell_type": "code",
   "execution_count": 33,
   "id": "34293183",
   "metadata": {},
   "outputs": [
    {
     "name": "stdout",
     "output_type": "stream",
     "text": [
      "[5 6]\n"
     ]
    }
   ],
   "source": [
    "arr = np.array([[1, 2 ,3], [4, 5, 6]])\n",
    "print(arr[1,1:])"
   ]
  },
  {
   "cell_type": "code",
   "execution_count": 35,
   "id": "45356b43",
   "metadata": {},
   "outputs": [
    {
     "name": "stdout",
     "output_type": "stream",
     "text": [
      "[[1 2 3]\n",
      " [4 5 6]\n",
      " [7 8 9]] \n",
      "\n",
      "3 \n",
      "\n",
      "[[4 5]\n",
      " [7 8]] \n",
      "\n"
     ]
    }
   ],
   "source": [
    "arr=np.array([[1,2,3],[4,5,6],[7,8,9]])\n",
    "print(arr,\"\\n\")\n",
    "print(arr[0,2],\"\\n\")\n",
    "print(arr[1:,:2],\"\\n\")"
   ]
  },
  {
   "cell_type": "markdown",
   "id": "262499a1",
   "metadata": {},
   "source": [
    "#### axis는 좌표축 \n",
    "#### 2차원 배열의 경우\n",
    "- 행: axis = 1\n",
    "- 열: axis = 0"
   ]
  },
  {
   "cell_type": "code",
   "execution_count": 39,
   "id": "cb8de8a1",
   "metadata": {},
   "outputs": [
    {
     "name": "stdout",
     "output_type": "stream",
     "text": [
      "axis를 기준으로\n",
      "[[1 2 3]\n",
      " [4 5 6]]\n",
      "\n",
      "\n",
      "21\n",
      "\n",
      "\n",
      "[5 7 9]\n",
      "\n",
      "\n",
      "[ 6 15]\n"
     ]
    }
   ],
   "source": [
    "print(\"axis를 기준으로\")\n",
    "arr = np.array([[1, 2 ,3], [4, 5, 6]])\n",
    "print(arr)\n",
    "print(\"\\n\")\n",
    "print(arr.sum())\n",
    "print(\"\\n\")\n",
    "print(arr.sum(axis=0))\n",
    "print(\"\\n\")\n",
    "print(arr.sum(axis=1))"
   ]
  },
  {
   "cell_type": "code",
   "execution_count": 41,
   "id": "e552c187",
   "metadata": {},
   "outputs": [
    {
     "name": "stdout",
     "output_type": "stream",
     "text": [
      "[ 6 21 57]\n"
     ]
    }
   ],
   "source": [
    "arr = np.array([[1, 2, 3], [4, 5, 12], [15, 20, 22]])\n",
    "arr_axis=arr.sum(axis=1)\n",
    "print(arr_axis)"
   ]
  },
  {
   "cell_type": "markdown",
   "id": "b5a932ca",
   "metadata": {},
   "source": [
    "##### 팬시인덱스\n",
    "arr[[]] --> 0부터 시작"
   ]
  },
  {
   "cell_type": "code",
   "execution_count": 52,
   "id": "6b844a50",
   "metadata": {},
   "outputs": [
    {
     "name": "stdout",
     "output_type": "stream",
     "text": [
      "[[7 8]\n",
      " [5 6]\n",
      " [1 2]\n",
      " [3 4]]\n"
     ]
    }
   ],
   "source": [
    "arr = np.array([[1, 2], [3, 4], [5, 6], [7, 8]])\n",
    "print(arr[[3,2,0,1]])"
   ]
  },
  {
   "cell_type": "code",
   "execution_count": 53,
   "id": "4f6579f5",
   "metadata": {},
   "outputs": [
    {
     "name": "stdout",
     "output_type": "stream",
     "text": [
      "[[ 0  1  2  3  4]\n",
      " [ 5  6  7  8  9]\n",
      " [10 11 12 13 14]\n",
      " [15 16 17 18 19]\n",
      " [20 21 22 23 24]]\n",
      "[[ 5  6  7  8  9]\n",
      " [15 16 17 18 19]\n",
      " [ 0  1  2  3  4]]\n"
     ]
    }
   ],
   "source": [
    "import numpy as np\n",
    "\n",
    "arr = np.arange(25).reshape(5, 5)\n",
    "print(arr)\n",
    "print(arr[[1, 3, 0]])"
   ]
  },
  {
   "cell_type": "markdown",
   "id": "9274350d",
   "metadata": {},
   "source": [
    "##### 전치행렬\n",
    "- np.transpose() 혹은 np.T"
   ]
  },
  {
   "cell_type": "code",
   "execution_count": 54,
   "id": "3666b0f3",
   "metadata": {},
   "outputs": [
    {
     "name": "stdout",
     "output_type": "stream",
     "text": [
      "[[0 1 2 3 4]\n",
      " [5 6 7 8 9]] \n",
      "\n",
      "[[0 5]\n",
      " [1 6]\n",
      " [2 7]\n",
      " [3 8]\n",
      " [4 9]]\n"
     ]
    }
   ],
   "source": [
    "arr = np.arange(10).reshape(2, 5)\n",
    "print(arr,\"\\n\")\n",
    "print(arr.T)"
   ]
  },
  {
   "cell_type": "markdown",
   "id": "b5035422",
   "metadata": {},
   "source": [
    "##### 정렬\n",
    "- sort() : 열단위 요소 정렬\n",
    "- sort(1) : 행단위 요소 정렬\n",
    "(복사본을 반환하는 것)\n",
    "\n",
    "- argsort() : 정렬된 배열의 인덱스"
   ]
  },
  {
   "cell_type": "code",
   "execution_count": 63,
   "id": "b7634d6e",
   "metadata": {},
   "outputs": [
    {
     "name": "stdout",
     "output_type": "stream",
     "text": [
      "[[8 4 2]\n",
      " [3 5 1]\n",
      " [4 8 9]] \n",
      "\n",
      "[[2 1 0]\n",
      " [2 0 1]\n",
      " [0 1 2]] \n",
      "\n",
      "[[2 4 8]\n",
      " [1 3 5]\n",
      " [4 8 9]] \n",
      "\n",
      "[[2 4 8]\n",
      " [1 3 5]\n",
      " [4 8 9]]\n"
     ]
    }
   ],
   "source": [
    "arr = np.array([[8, 4, 2], [3, 5, 1],[4,8,9]])\n",
    "print(arr,\"\\n\")\n",
    "print(arr.argsort(),\"\\n\")\n",
    "print(np.sort(arr),\"\\n\")\n",
    "arr.sort(1)\n",
    "print(arr)"
   ]
  },
  {
   "cell_type": "markdown",
   "id": "2b5f8561",
   "metadata": {},
   "source": [
    "##### 행렬 계산\n",
    "- np.dot(a,b) :행렬곱 \n",
    "- np.linalg.norm : norm(벡터의길이 반환(각 요소에 제곱값을 더해 루트를 씌운것))"
   ]
  },
  {
   "cell_type": "code",
   "execution_count": 64,
   "id": "99a9899f",
   "metadata": {},
   "outputs": [
    {
     "name": "stdout",
     "output_type": "stream",
     "text": [
      "[[0 1 2]\n",
      " [3 4 5]\n",
      " [6 7 8]]\n",
      "[[ 15  18  21]\n",
      " [ 42  54  66]\n",
      " [ 69  90 111]]\n",
      "14.2828568570857\n"
     ]
    }
   ],
   "source": [
    "import numpy as np\n",
    "\n",
    "# arr을 정의합니다\n",
    "arr = np.arange(9).reshape(3, 3)\n",
    "print(arr)\n",
    "\n",
    "print(np.dot(arr, arr))\n",
    "vec = arr.reshape(9)\n",
    "\n",
    "print(np.linalg.norm(vec))\n"
   ]
  },
  {
   "cell_type": "markdown",
   "id": "4fd00afe",
   "metadata": {},
   "source": [
    "##### 통계 함수\n",
    "- mean(),average() :평균\n",
    "- np.max(),np.min() : 최대값, 최솟값 반환\n",
    "- np.argmax(),np.argmin() : 최대값, 최솟값 인덱스 반환"
   ]
  },
  {
   "cell_type": "code",
   "execution_count": 66,
   "id": "c86ec437",
   "metadata": {},
   "outputs": [
    {
     "name": "stdout",
     "output_type": "stream",
     "text": [
      "[[ 0  1  2  3  4]\n",
      " [ 5  6  7  8  9]\n",
      " [10 11 12 13 14]]\n",
      "[5. 6. 7. 8. 9.]\n",
      "[10 35 60]\n",
      "[2 2 2 2 2]\n"
     ]
    }
   ],
   "source": [
    "import numpy as np\n",
    "\n",
    "arr = np.arange(15).reshape(3, 5)\n",
    "print(arr)\n",
    "\n",
    "print(arr.mean(axis=0))\n",
    "print(arr.sum(axis=1))\n",
    "print(arr.argmax(axis=0))"
   ]
  },
  {
   "cell_type": "markdown",
   "id": "3d35d900",
   "metadata": {},
   "source": [
    "##### 브로드캐스트\n",
    "- 크기가 서로 다른 배열간의 연산에서 처리가 자동적으로 이루어지는것\n",
    "- 행과 열을 자동으로 큰 배열쪽에 맞춰줌\n",
    "    - 행이 적은쪽이 많은 쪽의 수에 맞추어 부족한 부분을 기존행에 복사\n",
    "    - 열이 일치하지 않ㄷ은 경우에도 마찬가지"
   ]
  },
  {
   "cell_type": "code",
   "execution_count": 67,
   "id": "0eeba12b",
   "metadata": {},
   "outputs": [
    {
     "name": "stdout",
     "output_type": "stream",
     "text": [
      "[[1 2 3]\n",
      " [4 5 6]]\n"
     ]
    }
   ],
   "source": [
    "x = np.arange(6).reshape(2, 3)\n",
    "print(x + 1)"
   ]
  },
  {
   "cell_type": "code",
   "execution_count": 68,
   "id": "d5e09c8b",
   "metadata": {},
   "outputs": [
    {
     "name": "stdout",
     "output_type": "stream",
     "text": [
      "x:\n",
      "[[ 0  1  2  3  4]\n",
      " [ 5  6  7  8  9]\n",
      " [10 11 12 13 14]]\n",
      "y:\n",
      "[[0 1 2 3 4]]\n",
      "z:\n",
      "[[ 0  0  0  0  0]\n",
      " [ 5  5  5  5  5]\n",
      " [10 10 10 10 10]]\n"
     ]
    }
   ],
   "source": [
    "import numpy as np\n",
    "\n",
    "x = np.arange(15).reshape(3, 5)\n",
    "print(\"x:\")\n",
    "print(x)\n",
    "\n",
    "y = np.array([np.arange(5)])\n",
    "print(\"y:\")\n",
    "print(y)\n",
    "\n",
    "z = x - y\n",
    "\n",
    "print(\"z:\")\n",
    "print(z)\n"
   ]
  }
 ],
 "metadata": {
  "kernelspec": {
   "display_name": "Python 3",
   "language": "python",
   "name": "python3"
  },
  "language_info": {
   "codemirror_mode": {
    "name": "ipython",
    "version": 3
   },
   "file_extension": ".py",
   "mimetype": "text/x-python",
   "name": "python",
   "nbconvert_exporter": "python",
   "pygments_lexer": "ipython3",
   "version": "3.8.8"
  }
 },
 "nbformat": 4,
 "nbformat_minor": 5
}
