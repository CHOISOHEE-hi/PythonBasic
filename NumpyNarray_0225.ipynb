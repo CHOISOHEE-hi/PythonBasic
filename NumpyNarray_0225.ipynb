{
 "cells": [
  {
   "cell_type": "code",
   "execution_count": 15,
   "id": "e6c7f1a1",
   "metadata": {},
   "outputs": [
    {
     "name": "stdout",
     "output_type": "stream",
     "text": [
      "[[ 0  1  2  3  4]\n",
      " [ 5  6  7  8  9]\n",
      " [10 11 12 13 14]] \n",
      "\n",
      "열에 관한 통계\n",
      "[5. 6. 7. 8. 9.]\n",
      "[15 18 21 24 27]\n",
      "[0 1 2 3 4]\n",
      "[2 2 2 2 2]\n",
      "\n",
      "행에 관한 통계\n",
      "[ 2.  7. 12.]\n",
      "[10 35 60]\n",
      "[ 0  5 10]\n",
      "[4 4 4]\n"
     ]
    }
   ],
   "source": [
    "import numpy as np\n",
    "\n",
    "arr=np.arange(15).reshape(3,5)\n",
    "print(arr,\"\\n\")\n",
    "\n",
    "print(\"열에 관한 통계\")\n",
    "print(arr.mean(axis=0))\n",
    "\n",
    "print(arr.sum(axis=0))\n",
    "\n",
    "print(arr.min(axis=0))\n",
    "\n",
    "print(arr.argmax(axis=0))\n",
    "\n",
    "print(\"\\n행에 관한 통계\")\n",
    "print(arr.mean(axis=1))\n",
    "\n",
    "print(arr.sum(axis=1))\n",
    "\n",
    "print(arr.min(axis=1))\n",
    "\n",
    "print(arr.argmax(axis=1))\n"
   ]
  },
  {
   "cell_type": "code",
   "execution_count": 20,
   "id": "a673f63a",
   "metadata": {},
   "outputs": [
    {
     "name": "stdout",
     "output_type": "stream",
     "text": [
      "[[0 1 2]\n",
      " [3 4 5]] \n",
      "\n",
      "[[1 2 3]\n",
      " [4 5 6]]\n"
     ]
    }
   ],
   "source": [
    "x = np.arange(6).reshape(2,3)\n",
    "print(x,\"\\n\")\n",
    "\n",
    "print(x+1)"
   ]
  },
  {
   "cell_type": "code",
   "execution_count": 26,
   "id": "390ef57c",
   "metadata": {},
   "outputs": [
    {
     "name": "stdout",
     "output_type": "stream",
     "text": [
      "[[ 0  1  2  3  4]\n",
      " [ 5  6  7  8  9]\n",
      " [10 11 12 13 14]] \n",
      "\n",
      "[[0 1 2 3 4]] \n",
      "\n",
      "[[ 0  0  0  0  0]\n",
      " [ 5  5  5  5  5]\n",
      " [10 10 10 10 10]] \n",
      "\n"
     ]
    }
   ],
   "source": [
    "x=np.arange(15).reshape(3,5)\n",
    "y=np.array([np.arange(5)])\n",
    "print(x,\"\\n\")\n",
    "print(y,\"\\n\")\n",
    "print(x-y,\"\\n\")"
   ]
  },
  {
   "cell_type": "code",
   "execution_count": 35,
   "id": "33c72978",
   "metadata": {},
   "outputs": [
    {
     "name": "stdout",
     "output_type": "stream",
     "text": [
      "[[ 8 24  3]\n",
      " [ 7 23 15]\n",
      " [16 10 30]\n",
      " [20  2 21]\n",
      " [ 2  2 14]] \n",
      "\n",
      "[[ 8  7 16 20  2]\n",
      " [24 23 10  2  2]\n",
      " [ 3 15 30 21 14]] \n",
      "\n",
      "[[ 7 16 20]\n",
      " [23 10  2]\n",
      " [15 30 21]] \n",
      "\n",
      "[[ 7 10  2]\n",
      " [15 16 20]\n",
      " [23 30 21]] \n",
      "\n",
      "[ 5.8 15.4 18.2]\n"
     ]
    }
   ],
   "source": [
    "np.random.seed(100)\n",
    "arr=np.random.randint(0,31,(5,3))\n",
    "print(arr,\"\\n\")\n",
    "\n",
    "arr=arr.T\n",
    "print(arr,\"\\n\")\n",
    "\n",
    "arr1=arr[:,1:4]\n",
    "print(arr1,\"\\n\")\n",
    "\n",
    "arr1.sort(0)\n",
    "print(arr1,\"\\n\")\n",
    "\n",
    "print(arr.mean(axis=1))"
   ]
  },
  {
   "cell_type": "code",
   "execution_count": 45,
   "id": "f345950b",
   "metadata": {},
   "outputs": [
    {
     "name": "stdout",
     "output_type": "stream",
     "text": [
      "2\n"
     ]
    }
   ],
   "source": [
    "print(np.random.randint(0,2))"
   ]
  },
  {
   "cell_type": "code",
   "execution_count": 47,
   "id": "57821144",
   "metadata": {},
   "outputs": [
    {
     "name": "stdout",
     "output_type": "stream",
     "text": [
      "[[4 5 0]\n",
      " [3 3 3]\n",
      " [1 3 5]] \n",
      "\n",
      "[[4 5 0]\n",
      " [3 3 3]\n",
      " [0 5 5]] \n",
      "\n",
      "[[ 0  0  0]\n",
      " [ 0  0  0]\n",
      " [-1  2  0]] \n",
      "\n",
      "[[0 0 0]\n",
      " [0 0 0]\n",
      " [1 2 0]] \n",
      "\n"
     ]
    }
   ],
   "source": [
    "np.random.seed(0)\n",
    "\n",
    "def make_image(m,n):\n",
    "    image=np.random.randint(0,6,(m,n))\n",
    "    return image\n",
    "\n",
    "def chage_little(matrix):\n",
    "    shape=matrix.shape\n",
    "    for i in range(shape[0]):\n",
    "        for j in range(shape[1]):\n",
    "            if np.random.randint(0,2)==1:\n",
    "                matrix[i][j]=np.random.randint(0,6,1)\n",
    "    return matrix\n",
    "\n",
    "image1=make_image(3,3)\n",
    "print(image1,\"\\n\")\n",
    "\n",
    "image2=chage_little(np.copy(image1))\n",
    "print(image2,\"\\n\")\n",
    "\n",
    "image3=image2-image1\n",
    "print(image3,\"\\n\")\n",
    "\n",
    "image3 = np.abs(image3)\n",
    "print(image3,\"\\n\")\n",
    "\n"
   ]
  }
 ],
 "metadata": {
  "kernelspec": {
   "display_name": "Python 3",
   "language": "python",
   "name": "python3"
  },
  "language_info": {
   "codemirror_mode": {
    "name": "ipython",
    "version": 3
   },
   "file_extension": ".py",
   "mimetype": "text/x-python",
   "name": "python",
   "nbconvert_exporter": "python",
   "pygments_lexer": "ipython3",
   "version": "3.8.8"
  }
 },
 "nbformat": 4,
 "nbformat_minor": 5
}
