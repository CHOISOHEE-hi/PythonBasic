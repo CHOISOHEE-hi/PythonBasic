{
 "cells": [
  {
   "cell_type": "markdown",
   "id": "e6bb9a67",
   "metadata": {},
   "source": [
    "# 파이썬 기본 문법 (자료구조)"
   ]
  },
  {
   "cell_type": "markdown",
   "id": "b00dc37b",
   "metadata": {},
   "source": [
    "## 1. 리스트 \n",
    "배열과 같은 존재 [따란]"
   ]
  },
  {
   "cell_type": "code",
   "execution_count": 5,
   "id": "cb0efe7a",
   "metadata": {},
   "outputs": [
    {
     "name": "stdout",
     "output_type": "stream",
     "text": [
      "['코끼리', '기린', 3]\n",
      "<class 'list'>\n"
     ]
    }
   ],
   "source": [
    "['코끼리','기린','판다']\n",
    "b=['코끼리','기린',3]\n",
    "print(b)\n",
    "print(type(b))\n"
   ]
  },
  {
   "cell_type": "code",
   "execution_count": 6,
   "id": "f6200e84",
   "metadata": {},
   "outputs": [
    {
     "name": "stdout",
     "output_type": "stream",
     "text": [
      "['red', 'blue', 'yello']\n",
      "<class 'list'>\n"
     ]
    }
   ],
   "source": [
    "c= ['red','blue','yello']\n",
    "print(c)\n",
    "print(type(c))"
   ]
  },
  {
   "cell_type": "code",
   "execution_count": 7,
   "id": "fa235ba9",
   "metadata": {},
   "outputs": [
    {
     "name": "stdout",
     "output_type": "stream",
     "text": [
      "[4, 3, 6]\n"
     ]
    }
   ],
   "source": [
    "apple = 4\n",
    "grape = 3\n",
    "banana = 6\n",
    "\n",
    "fruits = [apple,grape,banana]\n",
    "print(fruits)"
   ]
  },
  {
   "cell_type": "code",
   "execution_count": 8,
   "id": "6ccc99d0",
   "metadata": {},
   "outputs": [
    {
     "name": "stdout",
     "output_type": "stream",
     "text": [
      "[['사과', 2], ['귤', 10]]\n"
     ]
    }
   ],
   "source": [
    "fruits_name_1 = '사과'\n",
    "num_1=2\n",
    "fruits_name_2='귤'\n",
    "num_2=10\n",
    "\n",
    "fruits=[[fruits_name_1,num_1],[fruits_name_2,num_2]]\n",
    "\n",
    "print(fruits)"
   ]
  },
  {
   "cell_type": "code",
   "execution_count": 9,
   "id": "f24a7cd5",
   "metadata": {},
   "outputs": [
    {
     "name": "stdout",
     "output_type": "stream",
     "text": [
      "1\n",
      "4\n"
     ]
    }
   ],
   "source": [
    "a=[1,2,3,4]\n",
    "print(a[0])\n",
    "print(a[-1])\n",
    "\n",
    "#리스트는 인덱스는 0부터 시작, 마지막꺼 -1"
   ]
  },
  {
   "cell_type": "code",
   "execution_count": 10,
   "id": "dc71cd0d",
   "metadata": {},
   "outputs": [
    {
     "name": "stdout",
     "output_type": "stream",
     "text": [
      "2\n",
      "1\n"
     ]
    }
   ],
   "source": [
    "fruits=[\"apple\",2,\"orange\",4,\"grape\",3,\"banana\",1]\n",
    "print(fruits[1])\n",
    "print(fruits[-1])"
   ]
  },
  {
   "cell_type": "code",
   "execution_count": 17,
   "id": "801c3cb9",
   "metadata": {},
   "outputs": [
    {
     "name": "stdout",
     "output_type": "stream",
     "text": [
      "['b', 'c', 'd', 'e']\n",
      "['b', 'c', 'd', 'e']\n",
      "['a', 'b', 'c', 'd', 'e', 'f', 'g', 'h', 'i', 'j']\n"
     ]
    }
   ],
   "source": [
    "alphabet=[\"a\",\"b\",\"c\",\"d\",\"e\",\"f\",\"g\",\"h\",\"i\",\"j\"]\n",
    "print(alphabet[1:5]) #슬라이스는 마지막전꺼까지 출력\n",
    "print(alphabet[1:-5])\n",
    "print(alphabet[0:20])"
   ]
  },
  {
   "cell_type": "code",
   "execution_count": 27,
   "id": "1e18b05d",
   "metadata": {},
   "outputs": [
    {
     "name": "stdout",
     "output_type": "stream",
     "text": [
      "['A', 'B', 'C']\n",
      "['A', 'B', 'C', 'k', 'l']\n"
     ]
    }
   ],
   "source": [
    "#리스트 갱신 및 추가\n",
    "\n",
    "#갱신\n",
    "alphabet[0]=\"A\"\n",
    "alphabet[1:3]=[\"B\",\"C\"]\n",
    "print(alphabet)\n",
    "\n",
    "#추가 (+와 append로 사용)\n",
    "alphabet+=['k','l']\n",
    "print(alphabet)\n",
    "\n"
   ]
  },
  {
   "cell_type": "code",
   "execution_count": 28,
   "id": "2db132f2",
   "metadata": {},
   "outputs": [
    {
     "name": "stdout",
     "output_type": "stream",
     "text": [
      "['red', 'blue', 'yellow']\n",
      "['red', 'blue', 'yellow', 'green']\n",
      "['red', 'blue', 'yellow', 'green', 'pink']\n"
     ]
    }
   ],
   "source": [
    "c=[\"dog\",\"blue\",\"yellow\"]\n",
    "c[0]=\"red\"\n",
    "print(c)\n",
    "c+=['green']\n",
    "print(c)\n",
    "c.append('pink')\n",
    "print(c)"
   ]
  },
  {
   "cell_type": "code",
   "execution_count": 29,
   "id": "5ae1c8f9",
   "metadata": {},
   "outputs": [
    {
     "name": "stdout",
     "output_type": "stream",
     "text": [
      "['A', 'B', 'C']\n"
     ]
    }
   ],
   "source": [
    "del alphabet[3:]\n",
    "print(alphabet)"
   ]
  },
  {
   "cell_type": "code",
   "execution_count": 30,
   "id": "65a91c1f",
   "metadata": {},
   "outputs": [
    {
     "name": "stdout",
     "output_type": "stream",
     "text": [
      "['blue', 'yellow']\n"
     ]
    }
   ],
   "source": [
    "c=[\"dog\",\"blue\",\"yellow\"]\n",
    "del c[0]\n",
    "print(c)"
   ]
  },
  {
   "cell_type": "code",
   "execution_count": 32,
   "id": "6a7730e3",
   "metadata": {},
   "outputs": [
    {
     "name": "stdout",
     "output_type": "stream",
     "text": [
      "['A', 'b', 'c']\n",
      "['A', 'b', 'c']\n"
     ]
    }
   ],
   "source": [
    "# 리스트를 새 변수에 대입하고 수정하면 본래의 변수 값도 바뀐다\n",
    "alphabet=['a','b','c']\n",
    "copy_alphabet=alphabet\n",
    "copy_alphabet[0]='A'\n",
    "\n",
    "print(copy_alphabet)\n",
    "\n",
    "print(alphabet)"
   ]
  },
  {
   "cell_type": "markdown",
   "id": "ec157bff",
   "metadata": {},
   "source": [
    "#### 안바뀌도록 수정하려면 y = x가 아닌 y= x[:] 로해야함 (중요)"
   ]
  },
  {
   "cell_type": "code",
   "execution_count": 33,
   "id": "d9f2175c",
   "metadata": {},
   "outputs": [
    {
     "name": "stdout",
     "output_type": "stream",
     "text": [
      "['A', 'b', 'c']\n",
      "['a', 'b', 'c']\n"
     ]
    }
   ],
   "source": [
    "alphabet=['a','b','c']\n",
    "copy_alphabet=alphabet[:]\n",
    "copy_alphabet[0]='A'\n",
    "\n",
    "print(copy_alphabet)\n",
    "\n",
    "print(alphabet)"
   ]
  },
  {
   "cell_type": "code",
   "execution_count": 34,
   "id": "9ec4c4ef",
   "metadata": {},
   "outputs": [
    {
     "name": "stdout",
     "output_type": "stream",
     "text": [
      "['red', 'blue', 'yellow']\n",
      "['red', 'blue', 'green']\n"
     ]
    }
   ],
   "source": [
    "c=[\"red\",\"blue\",\"yellow\"]\n",
    "copy_c=c[:]\n",
    "copy_c[2]=\"green\"\n",
    "print(c)\n",
    "print(copy_c)"
   ]
  },
  {
   "cell_type": "markdown",
   "id": "914e12b6",
   "metadata": {},
   "source": [
    "## 2. 딕셔너리 \n",
    "키와 값의 쌍으로 연결되 키를 통해 연결되어 있는 값\n",
    "(JSON과 비슷한 자료형)\n",
    "{따란}"
   ]
  },
  {
   "cell_type": "code",
   "execution_count": 36,
   "id": "34371944",
   "metadata": {},
   "outputs": [
    {
     "name": "stdout",
     "output_type": "stream",
     "text": [
      "{'korea': 'seoul', 'japan': 'tokyo'}\n"
     ]
    }
   ],
   "source": [
    "dic= {'korea':'seoul', 'japan':'tokyo'}\n",
    "print(dic)"
   ]
  },
  {
   "cell_type": "code",
   "execution_count": 38,
   "id": "c246b75e",
   "metadata": {},
   "outputs": [
    {
     "name": "stdout",
     "output_type": "stream",
     "text": [
      "{'경기도': '수원', '서울': '중구'}\n",
      "<class 'dict'>\n"
     ]
    }
   ],
   "source": [
    "town={'경기도':'수원','서울':'중구'}\n",
    "print(town)\n",
    "print(type(town))"
   ]
  },
  {
   "cell_type": "code",
   "execution_count": 39,
   "id": "4bc80347",
   "metadata": {},
   "outputs": [
    {
     "name": "stdout",
     "output_type": "stream",
     "text": [
      "seoul\n"
     ]
    }
   ],
   "source": [
    "dic= {'korea':'seoul', 'japan':'tokyo'}\n",
    "print(dic['korea'])"
   ]
  },
  {
   "cell_type": "code",
   "execution_count": 42,
   "id": "58dedfd3",
   "metadata": {},
   "outputs": [
    {
     "name": "stdout",
     "output_type": "stream",
     "text": [
      "경기도의 중심 도시는 수원입니다\n",
      "서울의 중심 도시는 중구입니다\n"
     ]
    }
   ],
   "source": [
    "town={'경기도':'수원','서울':'중구'}\n",
    "print('경기도의 중심 도시는 '+town['경기도']+'입니다')\n",
    "print('서울의 중심 도시는 '+town['서울']+'입니다')"
   ]
  },
  {
   "cell_type": "code",
   "execution_count": 44,
   "id": "bb321bc8",
   "metadata": {},
   "outputs": [
    {
     "name": "stdout",
     "output_type": "stream",
     "text": [
      "{'korea': 'seoul', 'japan': 'tokyo', 'Japan': 'Osaka', 'China': 'beigin'}\n"
     ]
    }
   ],
   "source": [
    "dic[\"Japan\"]='Osaka'\n",
    "dic[\"China\"]='beigin'\n",
    "print(dic)"
   ]
  },
  {
   "cell_type": "code",
   "execution_count": 47,
   "id": "e1fba855",
   "metadata": {},
   "outputs": [
    {
     "name": "stdout",
     "output_type": "stream",
     "text": [
      "{'경기도': '수원', '서울': '중구', '제주도': '제주시'}\n",
      "{'경기도': '분당', '서울': '중구', '제주도': '제주시'}\n"
     ]
    }
   ],
   "source": [
    "town={'경기도':'수원','서울':'중구'}\n",
    "town[\"제주도\"]='제주시'\n",
    "print(town)\n",
    "town['경기도']='분당'\n",
    "print(town)"
   ]
  },
  {
   "cell_type": "code",
   "execution_count": 48,
   "id": "6f259c5a",
   "metadata": {},
   "outputs": [
    {
     "name": "stdout",
     "output_type": "stream",
     "text": [
      "{'korea': 'seoul', 'japan': 'tokyo', 'Japan': 'Osaka'}\n"
     ]
    }
   ],
   "source": [
    "del dic['China']\n",
    "print(dic)"
   ]
  }
 ],
 "metadata": {
  "kernelspec": {
   "display_name": "Python 3",
   "language": "python",
   "name": "python3"
  },
  "language_info": {
   "codemirror_mode": {
    "name": "ipython",
    "version": 3
   },
   "file_extension": ".py",
   "mimetype": "text/x-python",
   "name": "python",
   "nbconvert_exporter": "python",
   "pygments_lexer": "ipython3",
   "version": "3.8.8"
  }
 },
 "nbformat": 4,
 "nbformat_minor": 5
}
