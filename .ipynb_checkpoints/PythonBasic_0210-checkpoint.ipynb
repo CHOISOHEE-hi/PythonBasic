{
 "cells": [
  {
   "cell_type": "markdown",
   "id": "5fd94fbd",
   "metadata": {},
   "source": [
    "# 파이썬 기본 문법 (반복문과 함수)"
   ]
  },
  {
   "cell_type": "markdown",
   "id": "11cef3fd",
   "metadata": {},
   "source": [
    "## 5. while문"
   ]
  },
  {
   "cell_type": "code",
   "execution_count": 1,
   "id": "4614838f",
   "metadata": {},
   "outputs": [
    {
     "name": "stdout",
     "output_type": "stream",
     "text": [
      "2\n",
      "1\n"
     ]
    }
   ],
   "source": [
    "n=2\n",
    "while n>0:\n",
    "    print(n)\n",
    "    n-=1"
   ]
  },
  {
   "cell_type": "code",
   "execution_count": 2,
   "id": "bbee15ba",
   "metadata": {},
   "outputs": [
    {
     "name": "stdout",
     "output_type": "stream",
     "text": [
      "Hanbit\n",
      "Hanbit\n",
      "Hanbit\n"
     ]
    }
   ],
   "source": [
    "x=5\n",
    "while x>0:\n",
    "    print(\"Hanbit\")\n",
    "    x-=2"
   ]
  },
  {
   "cell_type": "code",
   "execution_count": 5,
   "id": "4cb9f1af",
   "metadata": {},
   "outputs": [
    {
     "name": "stdout",
     "output_type": "stream",
     "text": [
      "4\n",
      "3\n",
      "2\n",
      "1\n",
      "0\n"
     ]
    }
   ],
   "source": [
    "x=5\n",
    "while x!=0:\n",
    "    x-=1\n",
    "    print(x)"
   ]
  },
  {
   "cell_type": "code",
   "execution_count": 6,
   "id": "ee2bbce6",
   "metadata": {},
   "outputs": [
    {
     "name": "stdout",
     "output_type": "stream",
     "text": [
      "4\n",
      "3\n",
      "2\n",
      "1\n",
      "bang\n"
     ]
    }
   ],
   "source": [
    "x=5\n",
    "while x!=0:\n",
    "    x-=1\n",
    "    if x!=0:\n",
    "        print(x)\n",
    "    elif x==0:\n",
    "        print('bang')"
   ]
  },
  {
   "cell_type": "code",
   "execution_count": 7,
   "id": "7396f69e",
   "metadata": {},
   "outputs": [
    {
     "name": "stdout",
     "output_type": "stream",
     "text": [
      "tiger\n",
      "dog\n",
      "elephant\n"
     ]
    }
   ],
   "source": [
    "animals =[\"tiger\",\"dog\",\"elephant\"]\n",
    "for animal in animals:\n",
    "    print(animal)"
   ]
  },
  {
   "cell_type": "code",
   "execution_count": 8,
   "id": "a9500aeb",
   "metadata": {
    "scrolled": true
   },
   "outputs": [
    {
     "name": "stdout",
     "output_type": "stream",
     "text": [
      "1\n",
      "2\n",
      "3\n",
      "4\n"
     ]
    }
   ],
   "source": [
    "storages =[1,2,3,4]\n",
    "for storage in storages:\n",
    "    print(storage)"
   ]
  },
  {
   "cell_type": "code",
   "execution_count": 10,
   "id": "a32a1614",
   "metadata": {},
   "outputs": [
    {
     "name": "stdout",
     "output_type": "stream",
     "text": [
      "1\n",
      "2\n",
      "3\n",
      "4\n",
      "5\n",
      "끝\n"
     ]
    }
   ],
   "source": [
    "storages =[1,2,3,4,5,6,7,8,9,10]\n",
    "for n in storages:\n",
    "    print(n)\n",
    "    if n>=5:\n",
    "        print(\"끝\")\n",
    "        break"
   ]
  },
  {
   "cell_type": "code",
   "execution_count": 13,
   "id": "ae511398",
   "metadata": {},
   "outputs": [
    {
     "name": "stdout",
     "output_type": "stream",
     "text": [
      "1\n",
      "2\n",
      "3\n",
      "4\n"
     ]
    }
   ],
   "source": [
    "storages =[1,2,3,4,5,6]\n",
    "for n in storages:\n",
    "    print(n)\n",
    "    if n==4:\n",
    "        break;"
   ]
  },
  {
   "cell_type": "code",
   "execution_count": 14,
   "id": "ad5c592a",
   "metadata": {},
   "outputs": [
    {
     "name": "stdout",
     "output_type": "stream",
     "text": [
      "1\n",
      "3\n"
     ]
    }
   ],
   "source": [
    "storages = [1,2,3]\n",
    "for n in storages:\n",
    "    if n==2:\n",
    "        continue    #continue를 적으면 for문으로 들어감\n",
    "    print(n)"
   ]
  },
  {
   "cell_type": "code",
   "execution_count": 16,
   "id": "58ab7245",
   "metadata": {},
   "outputs": [
    {
     "name": "stdout",
     "output_type": "stream",
     "text": [
      "1\n",
      "3\n",
      "5\n"
     ]
    }
   ],
   "source": [
    "storages = [1,2,3,4,5,6]\n",
    "\n",
    "for n in storages:\n",
    "    if n%2==0:\n",
    "        continue\n",
    "    print(n)"
   ]
  },
  {
   "cell_type": "markdown",
   "id": "58b5af0c",
   "metadata": {},
   "source": [
    "## 6. For 문"
   ]
  },
  {
   "cell_type": "markdown",
   "id": "b53f56d5",
   "metadata": {},
   "source": [
    "#### for문을 통해 리스트에 인덱스 넣기\n",
    " for x,y in enumerate(\"리스트 이름\"):\n",
    "     print(x,y)"
   ]
  },
  {
   "cell_type": "code",
   "execution_count": 18,
   "id": "c8bbd656",
   "metadata": {},
   "outputs": [
    {
     "name": "stdout",
     "output_type": "stream",
     "text": [
      "0 a\n",
      "1 b\n"
     ]
    }
   ],
   "source": [
    "list =[\"a\",\"b\"]\n",
    "for index, value in enumerate(list):\n",
    "    print(index, value)"
   ]
  },
  {
   "cell_type": "code",
   "execution_count": 22,
   "id": "1ebea035",
   "metadata": {},
   "outputs": [
    {
     "name": "stdout",
     "output_type": "stream",
     "text": [
      "index: 0 tiger\n",
      "index: 1 dog\n",
      "index: 2 elepant\n"
     ]
    }
   ],
   "source": [
    "animal = [\"tiger\",\"dog\", \"elepant\"]\n",
    "for index, value in enumerate(animal):\n",
    "    print(\"index:\",index, value)"
   ]
  },
  {
   "cell_type": "code",
   "execution_count": 23,
   "id": "170f4e24",
   "metadata": {},
   "outputs": [
    {
     "name": "stdout",
     "output_type": "stream",
     "text": [
      "1 2 3\n",
      "4 5 6\n"
     ]
    }
   ],
   "source": [
    "list =[[1,2,3],[4,5,6]]\n",
    "for a,b,c in list:\n",
    "    print(a,b,c)"
   ]
  },
  {
   "cell_type": "code",
   "execution_count": 24,
   "id": "24477b2a",
   "metadata": {},
   "outputs": [
    {
     "name": "stdout",
     "output_type": "stream",
     "text": [
      "strawberry is red\n",
      "peach is pink\n",
      "banana is yellow\n"
     ]
    }
   ],
   "source": [
    "fruits =[[\"strawberry\",\"red\"],[\"peach\",\"pink\"],[\"banana\",\"yellow\"]]\n",
    "for a,b in fruits:\n",
    "    print(a+\" is \"+b)"
   ]
  },
  {
   "cell_type": "code",
   "execution_count": 26,
   "id": "fd5b8d5e",
   "metadata": {},
   "outputs": [
    {
     "name": "stdout",
     "output_type": "stream",
     "text": [
      "strawberry is red\n",
      "peach is pink\n",
      "banana is yellow\n"
     ]
    }
   ],
   "source": [
    "# 딕셔너리형의 루프\n",
    "fruits = {\"strawberry\":\"red\",\"peach\":\"pink\",\"banana\":\"yellow\"}\n",
    "for fruit, color in fruits.items():\n",
    "    print(fruit+\" is \"+color)"
   ]
  },
  {
   "cell_type": "code",
   "execution_count": 27,
   "id": "f247efef",
   "metadata": {},
   "outputs": [
    {
     "name": "stdout",
     "output_type": "stream",
     "text": [
      "경기도 수원\n",
      "서울 중구\n",
      "제주도 제주시\n"
     ]
    }
   ],
   "source": [
    "town = {\"경기도\":\"수원\",\"서울\":\"중구\",\"제주도\":\"제주시\"}\n",
    "for city, town in town.items():\n",
    "    print(city,town)"
   ]
  },
  {
   "cell_type": "code",
   "execution_count": 6,
   "id": "31209946",
   "metadata": {},
   "outputs": [
    {
     "name": "stdout",
     "output_type": "stream",
     "text": [
      "지우개 은(는) 한개에 100원이며, 2 개 구입합니다.\n",
      "펜 은(는) 한개에 200원이며, 3 개 구입합니다.\n",
      "노트 은(는) 한개에 400원이며, 5 개 구입합니다.\n",
      "\n",
      "지불해야할 금액은  2800 입니다\n",
      "\n",
      "10000\n",
      "거스름 돈은 7200 입니다\n"
     ]
    }
   ],
   "source": [
    "items ={\"지우개\":[100,2],\"펜\":[200,3],\"노트\":[400,5]}\n",
    "total_price=0\n",
    "change=0\n",
    "\n",
    "for name, info in items.items():\n",
    "    print(name,\"은(는) 한개에 \"+str(info[0])+\"원이며, \"+str(info[1]),\"개 구입합니다.\")\n",
    "    total_price+=(info[0]*info[1])\n",
    "print(\"\")    \n",
    "print(\"지불해야할 금액은 \",total_price,\"입니다\")\n",
    "print(\"\")\n",
    "money=input()\n",
    "\n",
    "if int(money)>total_price:\n",
    "    print(\"거스름 돈은 \"+str(int(money)-total_price)+\" 입니다\")\n",
    "elif int(money)==total_price:\n",
    "    print(\"거스름돈은 없습니다\")\n",
    "else :\n",
    "    print(\"돈이 부족합니다.\"+str(total_price - int(money))+\"를 더 지불해주세요\")"
   ]
  },
  {
   "cell_type": "code",
   "execution_count": 8,
   "id": "0a744691",
   "metadata": {},
   "outputs": [
    {
     "name": "stdout",
     "output_type": "stream",
     "text": [
      "5\n"
     ]
    }
   ],
   "source": [
    "items ={\"지우개\":[100,2],\"펜\":[200,3],\"노트\":[400,5]}\n",
    "print(items[\"노트\"][1])"
   ]
  }
 ],
 "metadata": {
  "kernelspec": {
   "display_name": "Python 3",
   "language": "python",
   "name": "python3"
  },
  "language_info": {
   "codemirror_mode": {
    "name": "ipython",
    "version": 3
   },
   "file_extension": ".py",
   "mimetype": "text/x-python",
   "name": "python",
   "nbconvert_exporter": "python",
   "pygments_lexer": "ipython3",
   "version": "3.8.8"
  }
 },
 "nbformat": 4,
 "nbformat_minor": 5
}
