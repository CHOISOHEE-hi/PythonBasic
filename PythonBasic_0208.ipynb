{
 "cells": [
  {
   "cell_type": "markdown",
   "id": "23c804ae",
   "metadata": {},
   "source": [
    "# 파이썬 기초 연습하기 "
   ]
  },
  {
   "cell_type": "markdown",
   "id": "c24693c7",
   "metadata": {},
   "source": [
    "### 1. 기본 실행 방법"
   ]
  },
  {
   "cell_type": "code",
   "execution_count": 5,
   "id": "238f0232",
   "metadata": {},
   "outputs": [
    {
     "name": "stdout",
     "output_type": "stream",
     "text": [
      "hello python\n"
     ]
    }
   ],
   "source": [
    "print(\"hello python\")  #출력"
   ]
  },
  {
   "cell_type": "code",
   "execution_count": 6,
   "id": "bd36c6fd",
   "metadata": {},
   "outputs": [
    {
     "name": "stdout",
     "output_type": "stream",
     "text": [
      "11\n"
     ]
    }
   ],
   "source": [
    "print(3+8)"
   ]
  },
  {
   "cell_type": "code",
   "execution_count": 43,
   "id": "74419c32",
   "metadata": {},
   "outputs": [
    {
     "name": "stdout",
     "output_type": "stream",
     "text": [
      "18\n",
      "2 + 6 =8\n",
      "8\n"
     ]
    }
   ],
   "source": [
    "print(18)\n",
    "print(\"2 + 6 =\"+ str(2+6))\n",
    "print(2+6)"
   ]
  },
  {
   "cell_type": "code",
   "execution_count": 20,
   "id": "cace6703",
   "metadata": {},
   "outputs": [
    {
     "name": "stdout",
     "output_type": "stream",
     "text": [
      "강아지\n"
     ]
    }
   ],
   "source": [
    "n= \"강아지\"\n",
    "print(n)"
   ]
  },
  {
   "cell_type": "code",
   "execution_count": 22,
   "id": "8942ee3d",
   "metadata": {},
   "outputs": [
    {
     "name": "stdout",
     "output_type": "stream",
     "text": [
      "고양이\n",
      "n\n",
      "10\n"
     ]
    }
   ],
   "source": [
    "n='고양이'\n",
    "print(n)\n",
    "print('n')\n",
    "n=3+7\n",
    "print(n)"
   ]
  },
  {
   "cell_type": "code",
   "execution_count": 26,
   "id": "cca12ae0",
   "metadata": {},
   "outputs": [
    {
     "name": "stdout",
     "output_type": "stream",
     "text": [
      "고양이\n",
      "강아지\n",
      "14\n",
      "70\n"
     ]
    }
   ],
   "source": [
    "m=\"고양이\"\n",
    "print(m)\n",
    "m='강아지'\n",
    "print(m)\n",
    "\n",
    "n=14\n",
    "print(n)\n",
    "n=n*5\n",
    "print(n)"
   ]
  },
  {
   "cell_type": "code",
   "execution_count": 31,
   "id": "78ac107c",
   "metadata": {},
   "outputs": [
    {
     "name": "stdout",
     "output_type": "stream",
     "text": [
      "내 이름은 최소희 입니다\n"
     ]
    }
   ],
   "source": [
    "m=\"최소희\"\n",
    "print(\"내 이름은 \"+m+\" 입니다\")"
   ]
  },
  {
   "cell_type": "code",
   "execution_count": 34,
   "id": "ead43336",
   "metadata": {},
   "outputs": [
    {
     "data": {
      "text/plain": [
       "int"
      ]
     },
     "execution_count": 34,
     "metadata": {},
     "output_type": "execute_result"
    }
   ],
   "source": [
    "height = 177\n",
    "type(height)"
   ]
  },
  {
   "cell_type": "code",
   "execution_count": 41,
   "id": "6b5581ea",
   "metadata": {},
   "outputs": [
    {
     "name": "stdout",
     "output_type": "stream",
     "text": [
      "<class 'float'>\n",
      "<class 'int'>\n",
      "20.761245674740486\n",
      "<class 'float'>\n"
     ]
    }
   ],
   "source": [
    "h=1.7\n",
    "w=60\n",
    "\n",
    "print(type(h))\n",
    "print(type(w))\n",
    "\n",
    "bmi=60/(h*h) # h**2\n",
    "\n",
    "print(bmi)\n",
    "print(type(bmi))"
   ]
  },
  {
   "cell_type": "markdown",
   "id": "230d762e",
   "metadata": {},
   "source": [
    "자료형의 변환 str(h)"
   ]
  },
  {
   "cell_type": "code",
   "execution_count": 53,
   "id": "0f7c1240",
   "metadata": {},
   "outputs": [
    {
     "name": "stdout",
     "output_type": "stream",
     "text": [
      "당신의 bmi 지수는20입니다\n"
     ]
    }
   ],
   "source": [
    "h=1.7\n",
    "w=60\n",
    "bmi=60/(h**2)\n",
    "print(\"당신의 bmi 지수는 \"+str(int(bmi))+\" 입니다\")"
   ]
  },
  {
   "cell_type": "code",
   "execution_count": 2,
   "id": "9d065026",
   "metadata": {},
   "outputs": [
    {
     "name": "stdout",
     "output_type": "stream",
     "text": [
      "True\n"
     ]
    }
   ],
   "source": [
    "print(4+6 !=-10)"
   ]
  },
  {
   "cell_type": "code",
   "execution_count": 13,
   "id": "1cd57d38",
   "metadata": {},
   "outputs": [
    {
     "name": "stdout",
     "output_type": "stream",
     "text": [
      "강아지는 더 귀엽습니다\n"
     ]
    }
   ],
   "source": [
    "homeAnimal=\"cat\"\n",
    "homeAnimal2=\"dog\"\n",
    "\n",
    "animal=homeAnimal2\n",
    "\n",
    "\n",
    "if animal==\"cat\":\n",
    "    print(\"고양이는 귀엽습니다\")\n",
    "elif animal==\"dog\":\n",
    "    print(\"강아지는 더 귀엽습니다\")\n",
    "else:\n",
    "    print(\"사람은 안귀엽습니다\")"
   ]
  },
  {
   "cell_type": "code",
   "execution_count": 16,
   "id": "b28966e1",
   "metadata": {},
   "outputs": [
    {
     "name": "stdout",
     "output_type": "stream",
     "text": [
      "False\n",
      "True\n"
     ]
    }
   ],
   "source": [
    "n_1=14\n",
    "n_2=28\n",
    "print(n_1>8 and n_2<14)\n",
    "print(not(n_1**2<n_2*5))"
   ]
  },
  {
   "cell_type": "code",
   "execution_count": 22,
   "id": "ed71d844",
   "metadata": {},
   "outputs": [
    {
     "name": "stdout",
     "output_type": "stream",
     "text": [
      "2000년은 윤년 입니다\n"
     ]
    }
   ],
   "source": [
    "year = 2000\n",
    "if (not(year%400==0) and (year%100==0)): #str이 문자열\n",
    "    print(str(year)+\"년은 평년 입니다\")\n",
    "elif (year/4):\n",
    "    print(str(year)+\"년은 윤년 입니다\")\n",
    "else :\n",
    "    print(str(year)+\"년은 평년 입니다\")"
   ]
  },
  {
   "cell_type": "code",
   "execution_count": null,
   "id": "1e973bcb",
   "metadata": {},
   "outputs": [],
   "source": []
  }
 ],
 "metadata": {
  "kernelspec": {
   "display_name": "Python 3",
   "language": "python",
   "name": "python3"
  },
  "language_info": {
   "codemirror_mode": {
    "name": "ipython",
    "version": 3
   },
   "file_extension": ".py",
   "mimetype": "text/x-python",
   "name": "python",
   "nbconvert_exporter": "python",
   "pygments_lexer": "ipython3",
   "version": "3.8.8"
  }
 },
 "nbformat": 4,
 "nbformat_minor": 5
}
