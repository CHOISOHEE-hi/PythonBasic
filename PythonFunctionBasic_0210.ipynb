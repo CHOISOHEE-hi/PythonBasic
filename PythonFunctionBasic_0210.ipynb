{
 "cells": [
  {
   "cell_type": "markdown",
   "id": "0d86b635",
   "metadata": {},
   "source": [
    "# Chapter 06. 함수 기초"
   ]
  },
  {
   "cell_type": "markdown",
   "id": "d8068457",
   "metadata": {},
   "source": [
    "## 1. 내장함수와 메서드"
   ]
  },
  {
   "cell_type": "markdown",
   "id": "2b0c8a1f",
   "metadata": {},
   "source": [
    "### 1. len() 함수는 문자열이나 리스트의 길이를 나타내는 함수"
   ]
  },
  {
   "cell_type": "code",
   "execution_count": 7,
   "id": "9e9a1353",
   "metadata": {},
   "outputs": [
    {
     "name": "stdout",
     "output_type": "stream",
     "text": [
      "vege의 길이는  6\n",
      "리스트 n의 길이는  5\n"
     ]
    }
   ],
   "source": [
    "vege = \"potato\"\n",
    "n=[4,5,2,7,6]\n",
    "\n",
    "print(\"vege의 길이는 \",len(vege))\n",
    "print(\"리스트 n의 길이는 \",len(n))"
   ]
  },
  {
   "cell_type": "markdown",
   "id": "6e48ce4a",
   "metadata": {},
   "source": [
    "##### 메서드 : 값.메서드명()으로 명명"
   ]
  },
  {
   "cell_type": "markdown",
   "id": "086206a3",
   "metadata": {},
   "source": [
    "##### append()"
   ]
  },
  {
   "cell_type": "code",
   "execution_count": 2,
   "id": "08ec96ab",
   "metadata": {},
   "outputs": [
    {
     "name": "stdout",
     "output_type": "stream",
     "text": [
      "['a', 'b', 'c', 'd', 'e', 'f']\n"
     ]
    }
   ],
   "source": [
    "#append() 추가하는 메서드\n",
    "alphabet=[\"a\",\"b\",\"c\",\"d\",\"e\"]\n",
    "alphabet.append(\"f\")\n",
    "print(alphabet)"
   ]
  },
  {
   "cell_type": "markdown",
   "id": "9ef02f2b",
   "metadata": {},
   "source": [
    "##### sorted()와 sort()"
   ]
  },
  {
   "cell_type": "code",
   "execution_count": 6,
   "id": "b7c293d9",
   "metadata": {},
   "outputs": [
    {
     "name": "stdout",
     "output_type": "stream",
     "text": [
      "sorted(리스트명)는 본래 리스트를 정렬하지않고 정렬만해서 출력\n",
      "[1, 4, 3, 5, 2]\n",
      "[1, 2, 3, 4, 5]\n",
      "[1, 4, 3, 5, 2]\n",
      "\n",
      "리스트.sort()는 본래 리스트를 정렬하고 저장\n",
      "[1, 4, 3, 5, 2]\n",
      "[1, 2, 3, 4, 5]\n"
     ]
    }
   ],
   "source": [
    "#sorted() 정렬 메서드\n",
    "number=[1,4,3,5,2]\n",
    "print(\"sorted(리스트명)는 본래 리스트를 정렬하지않고 정렬만해서 출력\")\n",
    "print(number)\n",
    "print(sorted(number))\n",
    "print(number)\n",
    "print()\n",
    "\n",
    "print(\"리스트.sort()는 본래 리스트를 정렬하고 저장\")\n",
    "print(number)\n",
    "number.sort()\n",
    "print(number)"
   ]
  },
  {
   "cell_type": "markdown",
   "id": "26df572d",
   "metadata": {},
   "source": [
    "##### upper와 count"
   ]
  },
  {
   "cell_type": "code",
   "execution_count": 9,
   "id": "a6a4141c",
   "metadata": {},
   "outputs": [
    {
     "name": "stdout",
     "output_type": "stream",
     "text": [
      "TOKYO\n",
      "2\n",
      "Tokyo\n"
     ]
    }
   ],
   "source": [
    "city = \"Tokyo\"\n",
    "print(city.upper())\n",
    "print(city.count('o'))\n",
    "print(city)"
   ]
  },
  {
   "cell_type": "code",
   "execution_count": 11,
   "id": "679c2e1a",
   "metadata": {},
   "outputs": [
    {
     "name": "stdout",
     "output_type": "stream",
     "text": [
      "elephant\n",
      "ELEPHANT\n",
      "2\n"
     ]
    }
   ],
   "source": [
    "animal=\"elephant\"\n",
    "animal_big=animal.upper()\n",
    "print(animal)\n",
    "print(animal_big)\n",
    "\n",
    "print(animal.count('e'))"
   ]
  },
  {
   "cell_type": "markdown",
   "id": "14150e50",
   "metadata": {},
   "source": [
    "##### format()"
   ]
  },
  {
   "cell_type": "code",
   "execution_count": 12,
   "id": "f5a635e2",
   "metadata": {},
   "outputs": [
    {
     "name": "stdout",
     "output_type": "stream",
     "text": [
      "나는 서울에서 태어나 경기에서 유년기를 보냈습니다.\n"
     ]
    }
   ],
   "source": [
    "print(\"나는 {}에서 태어나 {}에서 유년기를 보냈습니다.\".format(\"서울\",\"경기\"))"
   ]
  },
  {
   "cell_type": "code",
   "execution_count": 13,
   "id": "3d4b3783",
   "metadata": {},
   "outputs": [
    {
     "name": "stdout",
     "output_type": "stream",
     "text": [
      "바나나는 노란색입니다\n"
     ]
    }
   ],
   "source": [
    "fruit=\"바나나\"\n",
    "color=\"노란색\"\n",
    "print(\"{}는 {}입니다\".format(fruit,color))"
   ]
  },
  {
   "cell_type": "markdown",
   "id": "b73cb873",
   "metadata": {},
   "source": [
    "##### index 와 count"
   ]
  },
  {
   "cell_type": "code",
   "execution_count": 14,
   "id": "18290dce",
   "metadata": {},
   "outputs": [
    {
     "name": "stdout",
     "output_type": "stream",
     "text": [
      "0\n",
      "3\n",
      "2\n"
     ]
    }
   ],
   "source": [
    "alphabet=[\"a\",\"b\",\"c\",\"d\",\"d\"]\n",
    "print(alphabet.index('a'))\n",
    "print(alphabet.index('d'))\n",
    "\n",
    "print(alphabet.count('d'))"
   ]
  },
  {
   "cell_type": "code",
   "execution_count": 15,
   "id": "e7bba086",
   "metadata": {},
   "outputs": [
    {
     "name": "stdout",
     "output_type": "stream",
     "text": [
      "5\n",
      "3\n"
     ]
    }
   ],
   "source": [
    "n=[3,6,8,6,3,2,4,6]\n",
    "print(n.index(2))\n",
    "print(n.count(6))"
   ]
  },
  {
   "cell_type": "markdown",
   "id": "798890b2",
   "metadata": {},
   "source": [
    "##### sort(오름차순 정렬)와 reverse(순서 반대)"
   ]
  },
  {
   "cell_type": "code",
   "execution_count": 16,
   "id": "fb32fe3f",
   "metadata": {},
   "outputs": [
    {
     "name": "stdout",
     "output_type": "stream",
     "text": [
      "[1, 2, 10, 20]\n"
     ]
    }
   ],
   "source": [
    "list=[1,10,2,20]\n",
    "list.sort()\n",
    "print(list)"
   ]
  },
  {
   "cell_type": "code",
   "execution_count": 18,
   "id": "a64c9e60",
   "metadata": {},
   "outputs": [
    {
     "name": "stdout",
     "output_type": "stream",
     "text": [
      "[20, 2, 10, 1]\n"
     ]
    }
   ],
   "source": [
    "list=[1,10,2,20]\n",
    "list.reverse()\n",
    "print(list)"
   ]
  },
  {
   "cell_type": "code",
   "execution_count": 20,
   "id": "1b07100d",
   "metadata": {},
   "outputs": [
    {
     "name": "stdout",
     "output_type": "stream",
     "text": [
      "[2, 24, 26, 37, 53, 69]\n",
      "[69, 53, 37, 26, 24, 2]\n"
     ]
    }
   ],
   "source": [
    "n=[53,26,37,69,24,2]\n",
    "n.sort()\n",
    "print(n)\n",
    "\n",
    "n.reverse()\n",
    "print(n)\n"
   ]
  },
  {
   "cell_type": "markdown",
   "id": "ac256ef5",
   "metadata": {},
   "source": [
    "## 2. 함수"
   ]
  },
  {
   "cell_type": "markdown",
   "id": "3c603102",
   "metadata": {},
   "source": [
    "##### 함수 작성"
   ]
  },
  {
   "cell_type": "code",
   "execution_count": 22,
   "id": "d832b951",
   "metadata": {},
   "outputs": [
    {
     "name": "stdout",
     "output_type": "stream",
     "text": [
      "노래합니다\n"
     ]
    }
   ],
   "source": [
    "def sing():\n",
    "    print(\"노래합니다\")\n",
    "sing()"
   ]
  },
  {
   "cell_type": "code",
   "execution_count": 23,
   "id": "6a8d900f",
   "metadata": {},
   "outputs": [
    {
     "name": "stdout",
     "output_type": "stream",
     "text": [
      "소개합니다. 저는 최소희입니다\n"
     ]
    }
   ],
   "source": [
    "def introduce():\n",
    "    print(\"소개합니다. 저는 최소희입니다\")\n",
    "introduce()"
   ]
  },
  {
   "cell_type": "code",
   "execution_count": 26,
   "id": "9062b042",
   "metadata": {},
   "outputs": [
    {
     "name": "stdout",
     "output_type": "stream",
     "text": [
      "소개합니다! 저는 홍길동입니다\n"
     ]
    }
   ],
   "source": [
    "def introduce(n):\n",
    "    print(\"소개합니다! 저는 \"+n+\"입니다\")\n",
    "introduce(\"홍길동\")"
   ]
  },
  {
   "cell_type": "code",
   "execution_count": 27,
   "id": "abf7bbbe",
   "metadata": {},
   "outputs": [
    {
     "name": "stdout",
     "output_type": "stream",
     "text": [
      "최소희\n",
      "소개합니다! 저는 최소희입니다\n"
     ]
    }
   ],
   "source": [
    "def introduce():\n",
    "    n=input()\n",
    "    print(\"소개합니다! 저는 \"+n+\"입니다\")\n",
    "introduce()"
   ]
  },
  {
   "cell_type": "code",
   "execution_count": 28,
   "id": "03508f2d",
   "metadata": {},
   "outputs": [
    {
     "name": "stdout",
     "output_type": "stream",
     "text": [
      "64\n"
     ]
    }
   ],
   "source": [
    "def cube_cal(n):\n",
    "    n=n**3\n",
    "    print(n)\n",
    "    \n",
    "cube_cal(4)"
   ]
  },
  {
   "cell_type": "code",
   "execution_count": 31,
   "id": "a0a9aa36",
   "metadata": {},
   "outputs": [
    {
     "name": "stdout",
     "output_type": "stream",
     "text": [
      "제 성은  최 이고 이름은 소희 입니다\n"
     ]
    }
   ],
   "source": [
    "#복수개의 인수\n",
    "def introduce(first,second):\n",
    "    print(\"제 성은\",first,\"이고 이름은\",second,\"입니다\")\n",
    "\n",
    "introduce(\"최\",\"소희\")"
   ]
  },
  {
   "cell_type": "code",
   "execution_count": 33,
   "id": "e4234498",
   "metadata": {},
   "outputs": [
    {
     "name": "stdout",
     "output_type": "stream",
     "text": [
      "홍길동 입니다. 20 살 입니다\n"
     ]
    }
   ],
   "source": [
    "def introduce(n,age):\n",
    "    print(n,\"입니다.\",age,\"살 입니다\")\n",
    "introduce(\"홍길동\",20)"
   ]
  },
  {
   "cell_type": "code",
   "execution_count": 38,
   "id": "dbe770c5",
   "metadata": {},
   "outputs": [
    {
     "name": "stdout",
     "output_type": "stream",
     "text": [
      "제 성은 김 이고 이름은 길동 입니다\n"
     ]
    }
   ],
   "source": [
    "def introduce(first=\"홍\",second=\"길동\"):\n",
    "    print(\"제 성은\",first,\"이고 이름은\",second,\"입니다\")\n",
    "introduce(\"김\")"
   ]
  },
  {
   "cell_type": "code",
   "execution_count": 41,
   "id": "31b3fa03",
   "metadata": {
    "scrolled": true
   },
   "outputs": [
    {
     "name": "stdout",
     "output_type": "stream",
     "text": [
      "홍길동 입니다. 20 살 입니다\n"
     ]
    }
   ],
   "source": [
    "def introduce(age,n=\"홍길동\"): #introduce(n=\"홍길동\",age)\n",
    "    print(n,\"입니다.\",str(age),\"살 입니다\")\n",
    "introduce(20)"
   ]
  },
  {
   "cell_type": "code",
   "execution_count": 44,
   "id": "a68aa785",
   "metadata": {},
   "outputs": [
    {
     "name": "stdout",
     "output_type": "stream",
     "text": [
      "제 성은 김이고 이름은 길동입니다\n"
     ]
    }
   ],
   "source": [
    "def introduce(first=\"홍\",second=\"길동\"):\n",
    "    return \"제 성은 \"+first+\"이고 이름은 \"+second+\"입니다\"\n",
    "\n",
    "print(introduce(\"김\"))\n"
   ]
  },
  {
   "cell_type": "code",
   "execution_count": 52,
   "id": "c4c5c504",
   "metadata": {},
   "outputs": [
    {
     "name": "stdout",
     "output_type": "stream",
     "text": [
      "bmi 지수는 17.578124999999996 입니다\n"
     ]
    }
   ],
   "source": [
    "def bmi(weight,height):\n",
    "    return weight/height**2\n",
    "\n",
    "print(\"bmi 지수는\",bmi(45,1.6),\"입니다\")"
   ]
  },
  {
   "cell_type": "code",
   "execution_count": 53,
   "id": "c3390f2b",
   "metadata": {},
   "outputs": [
    {
     "name": "stdout",
     "output_type": "stream",
     "text": [
      "1644494117.8648698\n"
     ]
    }
   ],
   "source": [
    "import time\n",
    "now_time=time.time()    #import time으로 하면 time.으로 모듈을 실행시켜야함\n",
    "print(now_time)"
   ]
  },
  {
   "cell_type": "code",
   "execution_count": 54,
   "id": "2ee5f5e3",
   "metadata": {},
   "outputs": [
    {
     "name": "stdout",
     "output_type": "stream",
     "text": [
      "1644494397.3272052\n"
     ]
    }
   ],
   "source": [
    "from time import time\n",
    "now_time=time()    #from을 이용해 import했기때문에 패키지명을 생략해도됨\n",
    "print(now_time)"
   ]
  },
  {
   "cell_type": "code",
   "execution_count": 55,
   "id": "c0af9769",
   "metadata": {},
   "outputs": [],
   "source": [
    "from time import time\n",
    "now_time=time()"
   ]
  },
  {
   "cell_type": "markdown",
   "id": "7024c89f",
   "metadata": {},
   "source": [
    "## 3. 클래스"
   ]
  },
  {
   "cell_type": "markdown",
   "id": "95e7a605",
   "metadata": {},
   "source": [
    " - 클래스 : 자동차 설계도\n",
    " - 생성자(함수) : 자동차 공장\n",
    " - 멤버(변수) : 휘발유의 양, 속도\n",
    " - 메서드(함수) : 브레이크, 엑셀, 핸들\n",
    " - 인스턴스(실체) : 실제 만들어진 객체"
   ]
  },
  {
   "cell_type": "code",
   "execution_count": 2,
   "id": "b49258d1",
   "metadata": {},
   "outputs": [
    {
     "name": "stdout",
     "output_type": "stream",
     "text": [
      "20\n"
     ]
    }
   ],
   "source": [
    "class MyProduct:\n",
    "    def __init__(self,name,price,stock):\n",
    "        self.name=name\n",
    "        self.price=price\n",
    "        self.stock=stock\n",
    "        self.sale=0\n",
    "product=MyProduct(\"cake\",500,20)\n",
    "\n",
    "print(product.stock)\n",
    "    "
   ]
  },
  {
   "cell_type": "code",
   "execution_count": 26,
   "id": "63b00d52",
   "metadata": {},
   "outputs": [
    {
     "name": "stdout",
     "output_type": "stream",
     "text": [
      "called summary().\n",
      " name: cake\n",
      " price: 500\n",
      " stock : 10\n",
      " sales: 0\n",
      "\n",
      "buy_up 2개\n",
      "called summary().\n",
      " name: cake\n",
      " price: 500\n",
      " stock : 12\n",
      " sales: 0\n",
      "\n",
      "sell 2개\n",
      "called summary().\n",
      " name: cake\n",
      " price: 500\n",
      " stock : 10\n",
      " sales: 1000\n"
     ]
    }
   ],
   "source": [
    "class MyProduct:\n",
    "    def __init__(self,name,price,stock):\n",
    "        self.name=name\n",
    "        self.price=price\n",
    "        self.stock=stock\n",
    "        self.sale=0\n",
    "        \n",
    "    def buy_up(self,n):\n",
    "        self.stock+=n\n",
    "        print(\"\")\n",
    "        print(\"buy_up \"+str(n)+\"개\")\n",
    "        \n",
    "    def sell(self,n):\n",
    "        self.stock-=n\n",
    "        self.sale += n* self.price\n",
    "        print(\"\")       \n",
    "        print(\"sell \"+str(n)+\"개\")\n",
    "        \n",
    "    def summary(self):\n",
    "        message=\"called summary().\\n name: \"+ self.name +\"\\n price: \"+str(self.price)+\"\\n stock : \"+str(self.stock)+\"\\n sales: \"+str(self.sale)\n",
    "        print(message)\n",
    "        \n",
    "myproduct = MyProduct(\"cake\",500,10)\n",
    "myproduct.summary()\n",
    "myproduct.buy_up(2)\n",
    "\n",
    "myproduct.summary()\n",
    "myproduct.sell(2)\n",
    "\n",
    "myproduct.summary()\n",
    "        "
   ]
  },
  {
   "cell_type": "code",
   "execution_count": 37,
   "id": "3e1c67f3",
   "metadata": {},
   "outputs": [
    {
     "name": "stdout",
     "output_type": "stream",
     "text": [
      "\n",
      "called summary().\n",
      " name: Phone\n",
      " price: 3000\n",
      " stock : 100\n",
      " sales: 0\n",
      "\n",
      "\n",
      "called summary().\n",
      " name: Phone\n",
      " price: 2500\n",
      " stock : 100\n",
      " sales: 0\n",
      "\n",
      "제품명은  Phone\n"
     ]
    }
   ],
   "source": [
    "class MyProduct:\n",
    "    def __init__(self,name,price,stock):\n",
    "        self.name=name\n",
    "        self.price=price\n",
    "        self.stock=stock\n",
    "        self.sale=0\n",
    "        \n",
    "    def buy_up(self,n):\n",
    "        self.stock+=n\n",
    "        print(\"\")\n",
    "        print(\"buy_up \"+str(n)+\"개\")\n",
    "        \n",
    "    def sell(self,n):\n",
    "        self.stock-=n\n",
    "        self.sale += n* self.price\n",
    "        print(\"\")       \n",
    "        print(\"sell \"+str(n)+\"개\")\n",
    "    \n",
    "    def get_name(self):\n",
    "        print(\"제품명은 \",self.name)\n",
    "        \n",
    "    def summary(self):\n",
    "        print(\"\")\n",
    "        message=\"called summary().\\n name: \"+ self.name +\"\\n price: \"+str(self.price)+\"\\n stock : \"+str(self.stock)+\"\\n sales: \"+str(self.sale)\n",
    "        print(message)\n",
    "    def discount(self,n):\n",
    "        self.price-=n\n",
    "        \n",
    "product=MyProduct(\"Phone\",3000,100)\n",
    "product.summary()\n",
    "print(\"\")\n",
    "product.discount(500)\n",
    "product.summary()\n",
    "print(\"\")\n",
    "product.get_name()"
   ]
  },
  {
   "cell_type": "code",
   "execution_count": 38,
   "id": "d6346d9d",
   "metadata": {},
   "outputs": [
    {
     "name": "stdout",
     "output_type": "stream",
     "text": [
      "\n",
      "Phone(소비세 포함)\n",
      "\n",
      "33000\n",
      "\n",
      "called summary().\n",
      " name: Phone\n",
      " price: 30000\n",
      " stock : 100\n",
      " sales: 0\n"
     ]
    }
   ],
   "source": [
    "class MyProductSalesTax(MyProduct):\n",
    "    def __init__(self,name,price,stock,tax_rate):\n",
    "        super().__init__(name,price,stock)\n",
    "        self.tax_rate=tax_rate\n",
    "    def get_name(self):\n",
    "        print(\"\")\n",
    "        return self.name+\"(소비세 포함)\"\n",
    "\n",
    "    def get_price_with_tax(self):\n",
    "        print(\"\")\n",
    "        return int(self.price*(1+self.tax_rate))\n",
    "    \n",
    "\n",
    "product_3 = MyProductSalesTax(\"Phone\",30000,100,0.1)\n",
    "print(product_3.get_name())\n",
    "print(product_3.get_price_with_tax())\n",
    "\n",
    "product_3.summary()"
   ]
  },
  {
   "cell_type": "code",
   "execution_count": 41,
   "id": "db83ebf6",
   "metadata": {},
   "outputs": [
    {
     "name": "stdout",
     "output_type": "stream",
     "text": [
      "\n",
      "Phone(소비세 포함)\n",
      "\n",
      "33000\n",
      "\n",
      "called summary().\n",
      " name: Phone\n",
      " price: 30000\n",
      " stock : 100\n",
      " sales: 0\n",
      " 소비세:0.1\n"
     ]
    }
   ],
   "source": [
    "class MyProductSalesTax(MyProduct):\n",
    "    def __init__(self,name,price,stock,tax_rate):\n",
    "        super().__init__(name,price,stock)\n",
    "        self.tax_rate=tax_rate\n",
    "        \n",
    "    def get_name(self):\n",
    "        print(\"\")\n",
    "        return self.name+\"(소비세 포함)\"\n",
    "\n",
    "    def get_price_with_tax(self):\n",
    "        print(\"\")\n",
    "        return int(self.price*(1+self.tax_rate))\n",
    "    \n",
    "    def summary(self):\n",
    "        print(\"\")\n",
    "        message=\"called summary().\\n name: \"+ self.name +\"\\n price: \"+str(self.price)+\"\\n stock : \"+str(self.stock)+\"\\n sales: \"+str(self.sale)+\"\\n소비세:\"+str(self.tax_rate)\n",
    "        print(message)\n",
    "        \n",
    "    \n",
    "\n",
    "product_3 = MyProductSalesTax(\"Phone\",30000,100,0.1)\n",
    "print(product_3.get_name())\n",
    "print(product_3.get_price_with_tax())\n",
    "\n",
    "product_3.summary()"
   ]
  },
  {
   "cell_type": "markdown",
   "id": "564d1b2c",
   "metadata": {},
   "source": [
    "## 4. 문자열 포맷 지정"
   ]
  },
  {
   "cell_type": "code",
   "execution_count": 44,
   "id": "14a6989f",
   "metadata": {},
   "outputs": [
    {
     "name": "stdout",
     "output_type": "stream",
     "text": [
      "원주율은 3.141592\n",
      "원주율은 3.14\n"
     ]
    }
   ],
   "source": [
    "pai=3.141592\n",
    "print(\"원주율은 %f\" %pai)\n",
    "print(\"원주율은 %.2f\" %pai)"
   ]
  },
  {
   "cell_type": "code",
   "execution_count": 47,
   "id": "31960170",
   "metadata": {},
   "outputs": [
    {
     "name": "stdout",
     "output_type": "stream",
     "text": [
      "bmi는 23.8751\n"
     ]
    }
   ],
   "source": [
    "def bmi(height,weight):\n",
    "    return weight/height**2\n",
    "\n",
    "\n",
    "print(\"bmi는 %.4f\" %bmi(1.65,65))"
   ]
  },
  {
   "cell_type": "markdown",
   "id": "99dd2083",
   "metadata": {},
   "source": [
    "## 연습문제"
   ]
  },
  {
   "cell_type": "code",
   "execution_count": 50,
   "id": "5d13aeb9",
   "metadata": {},
   "outputs": [
    {
     "name": "stdout",
     "output_type": "stream",
     "text": [
      "2\n",
      "3\n"
     ]
    }
   ],
   "source": [
    "def check_character(object,character):\n",
    "    return object.count(character)\n",
    "\n",
    "print(check_character([1,2,4,5,5,3],5))\n",
    "print(check_character(\"animationTvhappySquid\",\"a\"))\n"
   ]
  },
  {
   "cell_type": "code",
   "execution_count": 53,
   "id": "16549750",
   "metadata": {},
   "outputs": [
    {
     "name": "stdout",
     "output_type": "stream",
     "text": [
      "11은(는) 8번째에 있습니다\n"
     ]
    }
   ],
   "source": [
    "def binary_search(numbers, target_number):\n",
    "    low = 0\n",
    "    high = len(numbers)\n",
    "\n",
    "    while low <= high:\n",
    "        middle = (low + high) // 2\n",
    "        \n",
    "        if numbers[middle] == target_number:\n",
    "            print(\"{1}은(는) {0}번째에 있습니다\".format(middle, target_number))\n",
    "            break\n",
    "            \n",
    "        elif numbers[middle] < target_number:\n",
    "            low = middle + 1\n",
    "            \n",
    "        else:\n",
    "            high = middle - 1\n",
    "\n",
    "numbers = [1, 2, 3, 5, 6, 8, 9, 10, 11, 12, 13]\n",
    "target_number = 11\n",
    "binary_search(numbers, target_number)\n"
   ]
  }
 ],
 "metadata": {
  "kernelspec": {
   "display_name": "Python 3",
   "language": "python",
   "name": "python3"
  },
  "language_info": {
   "codemirror_mode": {
    "name": "ipython",
    "version": 3
   },
   "file_extension": ".py",
   "mimetype": "text/x-python",
   "name": "python",
   "nbconvert_exporter": "python",
   "pygments_lexer": "ipython3",
   "version": "3.8.8"
  }
 },
 "nbformat": 4,
 "nbformat_minor": 5
}
